{
 "cells": [
  {
   "cell_type": "code",
   "execution_count": null,
   "metadata": {},
   "outputs": [],
   "source": [
    "%load_ext autoreload\n",
    "%autoreload 2\n",
    "# https://hershkoy.medium.com/how-to-use-colab-with-git-on-your-local-machine-1c95586967e\n",
    "# Set up colaboratory environment\n",
    "\n",
    "import configparser\n",
    "import os.path\n",
    "from os import path\n",
    "from importlib import reload\n",
    "WANDB_enable = False\n",
    "creds_path_ar = [\"../credentials.ini\",\"credentials.colab.ini\"]\n",
    "root_path = \"\"\n",
    "data_path = \"\"\n",
    "for creds_path in creds_path_ar:\n",
    "  if path.exists(creds_path):\n",
    "    config_parser = configparser.ConfigParser()\n",
    "    config_parser.read(creds_path)\n",
    "    root_path = config_parser['MAIN'][\"PATH_ROOT\"]\n",
    "    data_path = config_parser['MAIN'][\"PATH_DATA\"]\n",
    "    ENV = config_parser['MAIN'][\"ENV\"]\n",
    "    break\n",
    "  \n",
    "if ENV==\"COLAB\":\n",
    "   from google.colab import drive\n",
    "   drive.mount('/content/drive')\n",
    "\n",
    "%cd {root_path}"
   ]
  }
 ],
 "metadata": {
  "language_info": {
   "name": "python"
  },
  "orig_nbformat": 4
 },
 "nbformat": 4,
 "nbformat_minor": 2
}
